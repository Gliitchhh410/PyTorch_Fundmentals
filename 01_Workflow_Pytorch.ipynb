{
  "nbformat": 4,
  "nbformat_minor": 0,
  "metadata": {
    "colab": {
      "provenance": [],
      "gpuType": "T4",
      "authorship_tag": "ABX9TyMYha4tFencz1oAF+K2YLN2",
      "include_colab_link": true
    },
    "kernelspec": {
      "name": "python3",
      "display_name": "Python 3"
    },
    "language_info": {
      "name": "python"
    },
    "accelerator": "GPU"
  },
  "cells": [
    {
      "cell_type": "markdown",
      "metadata": {
        "id": "view-in-github",
        "colab_type": "text"
      },
      "source": [
        "<a href=\"https://colab.research.google.com/github/Gliitchhh410/PyTorch_Fundmentals/blob/main/01_Workflow_Pytorch.ipynb\" target=\"_parent\"><img src=\"https://colab.research.google.com/assets/colab-badge.svg\" alt=\"Open In Colab\"/></a>"
      ]
    },
    {
      "cell_type": "code",
      "execution_count": null,
      "metadata": {
        "id": "hEp11jNTJeM8"
      },
      "outputs": [],
      "source": [
        "import torch as t\n",
        "from torch import nn\n",
        "import matplotlib.pyplot as plt"
      ]
    },
    {
      "cell_type": "code",
      "source": [
        "class LinearRegressionModel(nn.Module):\n",
        "  def __init__(self):\n",
        "    super().__init__()\n",
        "    self.weights = nn.Parameter(t.randn(1,\n",
        "                                        dtype = t.float,\n",
        "                                        requires_grad=True))\n",
        "    self.bias = nn.Parameter(t.randn(1,\n",
        "                                     dtype = t.float,\n",
        "                                     requires_grad=True))\n",
        "\n",
        "  def forward(self, x: t.Tensor) -> t.Tensor:\n",
        "    return self.weights * x + self.bias"
      ],
      "metadata": {
        "id": "asjy4_gxJiuo"
      },
      "execution_count": null,
      "outputs": []
    },
    {
      "cell_type": "code",
      "source": [
        "t.manual_seed(42)\n",
        "\n",
        "\n",
        "model_0 = LinearRegressionModel()\n",
        "\n",
        "print(model_0.state_dict())\n",
        "list(model_0.parameters())"
      ],
      "metadata": {
        "colab": {
          "base_uri": "https://localhost:8080/"
        },
        "id": "TSYjZ3DXKrx2",
        "outputId": "dec22aa6-f75a-4a7c-e0a9-9852b013cb79"
      },
      "execution_count": null,
      "outputs": [
        {
          "output_type": "stream",
          "name": "stdout",
          "text": [
            "OrderedDict([('weights', tensor([0.3367])), ('bias', tensor([0.1288]))])\n"
          ]
        },
        {
          "output_type": "execute_result",
          "data": {
            "text/plain": [
              "[Parameter containing:\n",
              " tensor([0.3367], requires_grad=True),\n",
              " Parameter containing:\n",
              " tensor([0.1288], requires_grad=True)]"
            ]
          },
          "metadata": {},
          "execution_count": 3
        }
      ]
    },
    {
      "cell_type": "code",
      "source": [
        "# Create *known* parameters\n",
        "weight = 0.7\n",
        "bias = 0.3\n",
        "\n",
        "# Create data\n",
        "start = 0\n",
        "end = 1\n",
        "step = 0.02\n",
        "X = t.arange(start, end, step).unsqueeze(dim=1)\n",
        "y = weight * X + bias\n",
        "\n",
        "X[:10], y[:10]"
      ],
      "metadata": {
        "id": "-EFXN8rTK1yx",
        "colab": {
          "base_uri": "https://localhost:8080/"
        },
        "outputId": "961ad05f-4fa8-4ab7-98ed-56a7959a3388"
      },
      "execution_count": null,
      "outputs": [
        {
          "output_type": "execute_result",
          "data": {
            "text/plain": [
              "(tensor([[0.0000],\n",
              "         [0.0200],\n",
              "         [0.0400],\n",
              "         [0.0600],\n",
              "         [0.0800],\n",
              "         [0.1000],\n",
              "         [0.1200],\n",
              "         [0.1400],\n",
              "         [0.1600],\n",
              "         [0.1800]]),\n",
              " tensor([[0.3000],\n",
              "         [0.3140],\n",
              "         [0.3280],\n",
              "         [0.3420],\n",
              "         [0.3560],\n",
              "         [0.3700],\n",
              "         [0.3840],\n",
              "         [0.3980],\n",
              "         [0.4120],\n",
              "         [0.4260]]))"
            ]
          },
          "metadata": {},
          "execution_count": 4
        }
      ]
    },
    {
      "cell_type": "code",
      "source": [
        "# Create train/test split\n",
        "train_split = int(0.8 * len(X)) # 80% of data used for training set, 20% for testing\n",
        "X_train, y_train = X[:train_split], y[:train_split]\n",
        "X_test, y_test = X[train_split:], y[train_split:]\n",
        "\n",
        "len(X_train), len(y_train), len(X_test), len(y_test)"
      ],
      "metadata": {
        "colab": {
          "base_uri": "https://localhost:8080/"
        },
        "id": "ZbCJqXm6dqCg",
        "outputId": "4f687547-b333-4580-d14b-86ff4e93b471"
      },
      "execution_count": null,
      "outputs": [
        {
          "output_type": "execute_result",
          "data": {
            "text/plain": [
              "(40, 40, 10, 10)"
            ]
          },
          "metadata": {},
          "execution_count": 5
        }
      ]
    },
    {
      "cell_type": "code",
      "source": [
        "def plot_predictions(train_data=X_train,\n",
        "                     train_labels=y_train,\n",
        "                     test_data=X_test,\n",
        "                     test_labels=y_test,\n",
        "                     predictions=None):\n",
        "  \"\"\"\n",
        "  Plots training data, test data and compares predictions.\n",
        "  \"\"\"\n",
        "  plt.figure(figsize=(10, 7))\n",
        "\n",
        "  # Plot training data in blue\n",
        "  plt.scatter(train_data, train_labels, c=\"b\", s=4, label=\"Training data\")\n",
        "\n",
        "  # Plot test data in green\n",
        "  plt.scatter(test_data, test_labels, c=\"g\", s=4, label=\"Testing data\")\n",
        "\n",
        "  if predictions is not None:\n",
        "    # Plot the predictions in red (predictions were made on the test data)\n",
        "    plt.scatter(test_data, predictions, c=\"r\", s=4, label=\"Predictions\")\n",
        "\n",
        "  # Show the legend\n",
        "  plt.legend(prop={\"size\": 14});"
      ],
      "metadata": {
        "id": "eYFlmXJsdyc6"
      },
      "execution_count": null,
      "outputs": []
    },
    {
      "cell_type": "code",
      "source": [
        "plot_predictions();\n"
      ],
      "metadata": {
        "colab": {
          "base_uri": "https://localhost:8080/",
          "height": 599
        },
        "id": "DyHGtVsrd0QF",
        "outputId": "2707f4f9-1e46-4b5c-b7a9-48ac1812373b"
      },
      "execution_count": null,
      "outputs": [
        {
          "output_type": "display_data",
          "data": {
            "text/plain": [
              "<Figure size 1000x700 with 1 Axes>"
            ],
            "image/png": "[encoded data removed]"
          },
          "metadata": {}
        }
      ]
    },
    {
      "cell_type": "code",
      "source": [
        "# Setup a loss function\n",
        "\n",
        "loss_fn = nn.L1Loss()\n",
        "\n",
        "#Learning Rate\n",
        "lr = 0.01\n",
        "#Setup an optimizer\n",
        "optimizer = t.optim.SGD(params=model_0.parameters(), lr=lr)"
      ],
      "metadata": {
        "id": "NJBBvRGkd7Bv"
      },
      "execution_count": null,
      "outputs": []
    },
    {
      "cell_type": "code",
      "source": [
        "model_0.state_dict()"
      ],
      "metadata": {
        "colab": {
          "base_uri": "https://localhost:8080/"
        },
        "id": "dPdrLt9yqTOO",
        "outputId": "c4cad903-4617-4539-e842-7361864b1833"
      },
      "execution_count": null,
      "outputs": [
        {
          "output_type": "execute_result",
          "data": {
            "text/plain": [
              "OrderedDict([('weights', tensor([0.3367])), ('bias', tensor([0.1288]))])"
            ]
          },
          "metadata": {},
          "execution_count": 9
        }
      ]
    },
    {
      "cell_type": "code",
      "source": [
        "weight, bias"
      ],
      "metadata": {
        "colab": {
          "base_uri": "https://localhost:8080/"
        },
        "id": "X4C0qZwIqXFX",
        "outputId": "f342d109-c083-4bf5-9a06-429e9491bf37"
      },
      "execution_count": null,
      "outputs": [
        {
          "output_type": "execute_result",
          "data": {
            "text/plain": [
              "(0.7, 0.3)"
            ]
          },
          "metadata": {},
          "execution_count": 10
        }
      ]
    },
    {
      "cell_type": "code",
      "source": [
        "t.manual_seed(42)\n",
        "\n",
        "# Set the number of epochs (how many times the model will pass over the training data)\n",
        "epochs = 300\n",
        "\n",
        "# Create empty loss lists to track values\n",
        "train_loss_values = []\n",
        "test_loss_values = []\n",
        "epoch_count = []\n",
        "\n",
        "for epoch in range(epochs):\n",
        "    ### Training\n",
        "\n",
        "    # Put model in training mode (this is the default state of a model)\n",
        "    model_0.train()\n",
        "\n",
        "    # 1. Forward pass on train data using the forward() method inside\n",
        "    y_pred = model_0(X_train)\n",
        "    # print(y_pred)\n",
        "\n",
        "    # 2. Calculate the loss (how different are our models predictions to the ground truth)\n",
        "    loss = loss_fn(y_pred, y_train)\n",
        "\n",
        "    # 3. Zero grad of the optimizer\n",
        "    optimizer.zero_grad()\n",
        "\n",
        "    # 4. Loss backwards\n",
        "    loss.backward()\n",
        "\n",
        "    # 5. Progress the optimizer\n",
        "    optimizer.step()\n",
        "\n",
        "    ### Testing\n",
        "\n",
        "    # Put the model in evaluation mode\n",
        "    model_0.eval()\n",
        "\n",
        "    with t.inference_mode():\n",
        "      # 1. Forward pass on test data\n",
        "      test_pred = model_0(X_test)\n",
        "\n",
        "      # 2. Caculate loss on test data\n",
        "      test_loss = loss_fn(test_pred, y_test.type(t.float)) # predictions come in torch.float datatype, so comparisons need to be done with tensors of the same type\n",
        "\n",
        "      # Print out what's happening\n",
        "      if epoch % 10 == 0:\n",
        "            epoch_count.append(epoch)\n",
        "            train_loss_values.append(loss.detach().numpy())\n",
        "            test_loss_values.append(test_loss.detach().numpy())\n",
        "            print(f\"Epoch: {epoch} | MAE Train Loss: {loss} | MAE Test Loss: {test_loss} \")\n",
        "\n",
        "\n",
        "\n"
      ],
      "metadata": {
        "colab": {
          "base_uri": "https://localhost:8080/"
        },
        "id": "Lh10fbPMfesN",
        "outputId": "29c98af0-6ea6-43ec-95b2-45e3f9a20836"
      },
      "execution_count": null,
      "outputs": [
        {
          "output_type": "stream",
          "name": "stdout",
          "text": [
            "Epoch: 0 | MAE Train Loss: 0.31288138031959534 | MAE Test Loss: 0.48106518387794495 \n",
            "Epoch: 10 | MAE Train Loss: 0.1976713240146637 | MAE Test Loss: 0.3463551998138428 \n",
            "Epoch: 20 | MAE Train Loss: 0.08908725529909134 | MAE Test Loss: 0.21729660034179688 \n",
            "Epoch: 30 | MAE Train Loss: 0.053148526698350906 | MAE Test Loss: 0.14464017748832703 \n",
            "Epoch: 40 | MAE Train Loss: 0.04543796554207802 | MAE Test Loss: 0.11360953003168106 \n",
            "Epoch: 50 | MAE Train Loss: 0.04167863354086876 | MAE Test Loss: 0.09919948130846024 \n",
            "Epoch: 60 | MAE Train Loss: 0.03818932920694351 | MAE Test Loss: 0.08886633068323135 \n",
            "Epoch: 70 | MAE Train Loss: 0.03476089984178543 | MAE Test Loss: 0.0805937647819519 \n",
            "Epoch: 80 | MAE Train Loss: 0.03132382780313492 | MAE Test Loss: 0.07232122868299484 \n",
            "Epoch: 90 | MAE Train Loss: 0.02788739837706089 | MAE Test Loss: 0.06473556160926819 \n",
            "Epoch: 100 | MAE Train Loss: 0.024458957836031914 | MAE Test Loss: 0.05646304413676262 \n",
            "Epoch: 110 | MAE Train Loss: 0.021020207554101944 | MAE Test Loss: 0.04819049686193466 \n",
            "Epoch: 120 | MAE Train Loss: 0.01758546568453312 | MAE Test Loss: 0.04060482233762741 \n",
            "Epoch: 130 | MAE Train Loss: 0.014155393466353416 | MAE Test Loss: 0.03233227878808975 \n",
            "Epoch: 140 | MAE Train Loss: 0.010716589167714119 | MAE Test Loss: 0.024059748277068138 \n",
            "Epoch: 150 | MAE Train Loss: 0.0072835334576666355 | MAE Test Loss: 0.016474086791276932 \n",
            "Epoch: 160 | MAE Train Loss: 0.0038517764769494534 | MAE Test Loss: 0.008201557211577892 \n",
            "Epoch: 170 | MAE Train Loss: 0.008932482451200485 | MAE Test Loss: 0.005023092031478882 \n",
            "Epoch: 180 | MAE Train Loss: 0.008932482451200485 | MAE Test Loss: 0.005023092031478882 \n",
            "Epoch: 190 | MAE Train Loss: 0.008932482451200485 | MAE Test Loss: 0.005023092031478882 \n",
            "Epoch: 200 | MAE Train Loss: 0.008932482451200485 | MAE Test Loss: 0.005023092031478882 \n",
            "Epoch: 210 | MAE Train Loss: 0.008932482451200485 | MAE Test Loss: 0.005023092031478882 \n",
            "Epoch: 220 | MAE Train Loss: 0.008932482451200485 | MAE Test Loss: 0.005023092031478882 \n",
            "Epoch: 230 | MAE Train Loss: 0.008932482451200485 | MAE Test Loss: 0.005023092031478882 \n",
            "Epoch: 240 | MAE Train Loss: 0.008932482451200485 | MAE Test Loss: 0.005023092031478882 \n",
            "Epoch: 250 | MAE Train Loss: 0.008932482451200485 | MAE Test Loss: 0.005023092031478882 \n",
            "Epoch: 260 | MAE Train Loss: 0.008932482451200485 | MAE Test Loss: 0.005023092031478882 \n",
            "Epoch: 270 | MAE Train Loss: 0.008932482451200485 | MAE Test Loss: 0.005023092031478882 \n",
            "Epoch: 280 | MAE Train Loss: 0.008932482451200485 | MAE Test Loss: 0.005023092031478882 \n",
            "Epoch: 290 | MAE Train Loss: 0.008932482451200485 | MAE Test Loss: 0.005023092031478882 \n"
          ]
        }
      ]
    },
    {
      "cell_type": "code",
      "source": [
        "model_0.state_dict()"
      ],
      "metadata": {
        "colab": {
          "base_uri": "https://localhost:8080/"
        },
        "id": "6k3ZXE7fqZxy",
        "outputId": "025da7fc-cf59-40ca-ce2b-9733c53470df"
      },
      "execution_count": null,
      "outputs": [
        {
          "output_type": "execute_result",
          "data": {
            "text/plain": [
              "OrderedDict([('weights', tensor([0.6990])), ('bias', tensor([0.3093]))])"
            ]
          },
          "metadata": {},
          "execution_count": 12
        }
      ]
    },
    {
      "cell_type": "code",
      "source": [
        "with t.inference_mode():\n",
        "  y_pred_new = model_0(X_test)"
      ],
      "metadata": {
        "id": "6sRCQwaMqeis"
      },
      "execution_count": null,
      "outputs": []
    },
    {
      "cell_type": "code",
      "source": [
        "plot_predictions(predictions =y_pred_new)"
      ],
      "metadata": {
        "colab": {
          "base_uri": "https://localhost:8080/",
          "height": 599
        },
        "id": "TT7Ef693riw6",
        "outputId": "34c89735-6987-406e-b01e-1b4021e8a046"
      },
      "execution_count": null,
      "outputs": [
        {
          "output_type": "display_data",
          "data": {
            "text/plain": [
              "<Figure size 1000x700 with 1 Axes>"
            ],
            "image/png": "[encoded data removed]"
          },
          "metadata": {}
        }
      ]
    },
    {
      "cell_type": "code",
      "source": [
        "plt.plot(epoch_count, train_loss_values, label='Train Loss')\n",
        "plt.plot(epoch_count, test_loss_values, label='Train Loss')\n",
        "plt.ylabel('loss')\n",
        "plt.xlabel('No.Epochs')"
      ],
      "metadata": {
        "colab": {
          "base_uri": "https://localhost:8080/",
          "height": 468
        },
        "id": "Z2226BpRrwer",
        "outputId": "b8aedf1a-c929-4eb9-b4d6-1b6b56703fe5"
      },
      "execution_count": null,
      "outputs": [
        {
          "output_type": "execute_result",
          "data": {
            "text/plain": [
              "Text(0.5, 0, 'No.Epochs')"
            ]
          },
          "metadata": {},
          "execution_count": 15
        },
        {
          "output_type": "display_data",
          "data": {
            "text/plain": [
              "<Figure size 640x480 with 1 Axes>"
            ],
            "image/png": "[encoded data removed]"
          },
          "metadata": {}
        }
      ]
    },
    {
      "cell_type": "code",
      "source": [
        "#Saving a Model in Pytorch\n",
        "from pathlib import Path\n",
        "\n",
        "#Create Models Directory\n",
        "MODEL_PATH = Path('models')\n",
        "MODEL_PATH.mkdir(parents=True, exist_ok=True)\n",
        "\n",
        "\n",
        "#Create Model Save Path\n",
        "MODEL_NAME='01_pytorch_workflow_model_0.pth'\n",
        "MODEL_SAVE_PATH = MODEL_PATH / MODEL_NAME\n",
        "MODEL_SAVE_PATH\n",
        "\n",
        "#Save the model state dict\n",
        "print(f\"Saving model to:{MODEL_SAVE_PATH}\")\n",
        "t.save(obj= model_0.state_dict(),\n",
        "       f=MODEL_SAVE_PATH)"
      ],
      "metadata": {
        "colab": {
          "base_uri": "https://localhost:8080/"
        },
        "id": "GCMt5DQzzxNo",
        "outputId": "93684a40-6b15-4582-9856-1aeaeab23917"
      },
      "execution_count": null,
      "outputs": [
        {
          "output_type": "stream",
          "name": "stdout",
          "text": [
            "Saving model to:models/01_pytorch_workflow_model_0.pth\n"
          ]
        }
      ]
    },
    {
      "cell_type": "code",
      "source": [
        "#Loading a Pytorch Model\n",
        "\n",
        "loaded_model_0  = LinearRegressionModel()\n",
        "\n",
        "#Loading the save state dict\n",
        "\n",
        "loaded_model_0.load_state_dict(t.load(f=MODEL_SAVE_PATH))"
      ],
      "metadata": {
        "colab": {
          "base_uri": "https://localhost:8080/"
        },
        "id": "3pd2EB6M3QJB",
        "outputId": "7a162f83-699a-4935-e0bd-9db5ec8160f0"
      },
      "execution_count": null,
      "outputs": [
        {
          "output_type": "execute_result",
          "data": {
            "text/plain": [
              "<All keys matched successfully>"
            ]
          },
          "metadata": {},
          "execution_count": 17
        }
      ]
    },
    {
      "cell_type": "code",
      "source": [
        "loaded_model_0.state_dict()"
      ],
      "metadata": {
        "colab": {
          "base_uri": "https://localhost:8080/"
        },
        "id": "aDQaTtIP5HeL",
        "outputId": "7a88243c-6dd9-4247-d33d-edd574852c6a"
      },
      "execution_count": null,
      "outputs": [
        {
          "output_type": "execute_result",
          "data": {
            "text/plain": [
              "OrderedDict([('weights', tensor([0.6990])), ('bias', tensor([0.3093]))])"
            ]
          },
          "metadata": {},
          "execution_count": 18
        }
      ]
    },
    {
      "cell_type": "code",
      "source": [
        "#Trying it\n",
        "\n",
        "loaded_model_0.eval()\n",
        "with t.inference_mode():\n",
        "  loaded_preds = loaded_model_0(X_test)\n",
        "\n",
        "loaded_preds"
      ],
      "metadata": {
        "colab": {
          "base_uri": "https://localhost:8080/"
        },
        "id": "hs1H7Khg5J58",
        "outputId": "779dc0be-0f09-469b-939f-c12ad3e8225f"
      },
      "execution_count": null,
      "outputs": [
        {
          "output_type": "execute_result",
          "data": {
            "text/plain": [
              "tensor([[0.8685],\n",
              "        [0.8825],\n",
              "        [0.8965],\n",
              "        [0.9105],\n",
              "        [0.9245],\n",
              "        [0.9384],\n",
              "        [0.9524],\n",
              "        [0.9664],\n",
              "        [0.9804],\n",
              "        [0.9944]])"
            ]
          },
          "metadata": {},
          "execution_count": 19
        }
      ]
    },
    {
      "cell_type": "markdown",
      "source": [
        "## Putting it all together"
      ],
      "metadata": {
        "id": "5uNHxpgf7zW6"
      }
    },
    {
      "cell_type": "code",
      "source": [
        "import torch as t\n",
        "from torch import nn\n",
        "import matplotlib.pyplot as plt\n",
        "\n",
        "\n",
        "t.__version__"
      ],
      "metadata": {
        "colab": {
          "base_uri": "https://localhost:8080/",
          "height": 35
        },
        "id": "e7TLn5V373a8",
        "outputId": "79fe3765-52c3-4709-985f-195911e8a315"
      },
      "execution_count": null,
      "outputs": [
        {
          "output_type": "execute_result",
          "data": {
            "text/plain": [
              "'2.3.0+cu121'"
            ],
            "application/vnd.google.colaboratory.intrinsic+json": {
              "type": "string"
            }
          },
          "metadata": {},
          "execution_count": 2
        }
      ]
    },
    {
      "cell_type": "markdown",
      "source": [
        "Create Device Agnostic Code"
      ],
      "metadata": {
        "id": "KLmJ-gNx8O8s"
      }
    },
    {
      "cell_type": "code",
      "source": [
        "device = \"cuda\" if t.cuda.is_available() else \"cpu\"\n",
        "\n",
        "print(f\"Operating Device: {device}\")"
      ],
      "metadata": {
        "colab": {
          "base_uri": "https://localhost:8080/"
        },
        "id": "980CTmYN8I_S",
        "outputId": "406e3925-ca2a-4b99-8fc5-560ab7a0095f"
      },
      "execution_count": null,
      "outputs": [
        {
          "output_type": "stream",
          "name": "stdout",
          "text": [
            "Operating Device: cuda\n"
          ]
        }
      ]
    },
    {
      "cell_type": "markdown",
      "source": [
        "Create Dummy Data"
      ],
      "metadata": {
        "id": "RQt4Q8Ax81ql"
      }
    },
    {
      "cell_type": "code",
      "source": [
        "weight = 0.7\n",
        "bias = 0.3\n",
        "\n",
        "start = 0\n",
        "end = 1\n",
        "step = 0.02\n",
        "\n",
        "\n",
        "X = t.arange(start , end, step).unsqueeze(dim = 1) # without unsqueeze errors happens\n",
        "y = weight * X + bias\n",
        "\n",
        "X[:10], y[:10]"
      ],
      "metadata": {
        "colab": {
          "base_uri": "https://localhost:8080/"
        },
        "id": "m6ELLLVy8278",
        "outputId": "d8b03b2b-f5a2-49a0-dbef-9c08c71fdf89"
      },
      "execution_count": null,
      "outputs": [
        {
          "output_type": "execute_result",
          "data": {
            "text/plain": [
              "(tensor([[0.0000],\n",
              "         [0.0200],\n",
              "         [0.0400],\n",
              "         [0.0600],\n",
              "         [0.0800],\n",
              "         [0.1000],\n",
              "         [0.1200],\n",
              "         [0.1400],\n",
              "         [0.1600],\n",
              "         [0.1800]]),\n",
              " tensor([[0.3000],\n",
              "         [0.3140],\n",
              "         [0.3280],\n",
              "         [0.3420],\n",
              "         [0.3560],\n",
              "         [0.3700],\n",
              "         [0.3840],\n",
              "         [0.3980],\n",
              "         [0.4120],\n",
              "         [0.4260]]))"
            ]
          },
          "metadata": {},
          "execution_count": 6
        }
      ]
    },
    {
      "cell_type": "markdown",
      "source": [
        "Split data"
      ],
      "metadata": {
        "id": "H7iIAhbB9Tuq"
      }
    },
    {
      "cell_type": "code",
      "source": [
        "train_split = int(0.8*len(X))\n",
        "\n",
        "X_train , y_train = X[:train_split], y[:train_split]\n",
        "\n",
        "X_test, y_test = X[train_split:],y[train_split:]\n",
        "\n",
        "\n",
        "len(X_train), len(y_train), len(X_test), len(y_test)"
      ],
      "metadata": {
        "colab": {
          "base_uri": "https://localhost:8080/"
        },
        "id": "DtiZDm3R9UV8",
        "outputId": "97b2d557-1a5a-4103-e4bc-6581045085a9"
      },
      "execution_count": null,
      "outputs": [
        {
          "output_type": "execute_result",
          "data": {
            "text/plain": [
              "(40, 40, 10, 10)"
            ]
          },
          "metadata": {},
          "execution_count": 7
        }
      ]
    },
    {
      "cell_type": "markdown",
      "source": [
        "Plot Data"
      ],
      "metadata": {
        "id": "lFco4d2r96tq"
      }
    },
    {
      "cell_type": "code",
      "source": [
        "plot_predictions(X_train, y_train, X_test,y_test)"
      ],
      "metadata": {
        "colab": {
          "base_uri": "https://localhost:8080/",
          "height": 599
        },
        "id": "kOurXuPH97bH",
        "outputId": "b9297438-bd9a-4226-e0d6-4b666b751e75"
      },
      "execution_count": null,
      "outputs": [
        {
          "output_type": "display_data",
          "data": {
            "text/plain": [
              "<Figure size 1000x700 with 1 Axes>"
            ],
            "image/png": "[encoded data removed]"
          },
          "metadata": {}
        }
      ]
    },
    {
      "cell_type": "markdown",
      "source": [
        "Creating the Model"
      ],
      "metadata": {
        "id": "VL39OK10-I3S"
      }
    },
    {
      "cell_type": "code",
      "source": [
        "class LinearRegressionModel(nn.Module):\n",
        "  def __init__(self):\n",
        "    super().__init__():\n",
        "    self.weights = t.Parameter(\n",
        "        t.randn(1,\n",
        "                dtype = t.float,\n",
        "                requires_grad = True)\n",
        "        )\n",
        "    self.bias = t.Parameter(\n",
        "        t.randn(\n",
        "            1,\n",
        "            dtype = t.float,\n",
        "            requires_grad = True\n",
        "        )\n",
        "    )\n",
        "  def forward(self, x:t.Tensor) -> t.Tensor:\n",
        "    return self.weights * x + self.bias\n",
        "\n"
      ],
      "metadata": {
        "id": "dNm8oRUm-Rla"
      },
      "execution_count": null,
      "outputs": []
    },
    {
      "cell_type": "markdown",
      "source": [
        "We will try to build a new Model"
      ],
      "metadata": {
        "id": "7R8SOc9x_FTP"
      }
    },
    {
      "cell_type": "code",
      "source": [
        "class LinearRegressionModelV2(nn.Module):\n",
        "  def __init__(self):\n",
        "    super().__init__()\n",
        "    self.linear_layer = nn.Linear(in_features=1, out_features=1,)\n",
        "\n",
        "  def forward(self, x: t.Tensor ) -> t.Tensor :\n",
        "    return self.linear_layer(x)\n",
        "\n",
        "# Set Manual Seed\n",
        "t.manual_seed(42)\n",
        "\n",
        "model_1 = LinearRegressionModelV2()\n",
        "model_1, model_1.state_dict()"
      ],
      "metadata": {
        "colab": {
          "base_uri": "https://localhost:8080/"
        },
        "id": "0V20H4Uk_H3i",
        "outputId": "48642da2-a518-4264-d1e2-9f803df0e61a"
      },
      "execution_count": null,
      "outputs": [
        {
          "output_type": "execute_result",
          "data": {
            "text/plain": [
              "(LinearRegressionModelV2(\n",
              "   (linear_layer): Linear(in_features=1, out_features=1, bias=True)\n",
              " ),\n",
              " OrderedDict([('linear_layer.weight', tensor([[0.7645]])),\n",
              "              ('linear_layer.bias', tensor([0.8300]))]))"
            ]
          },
          "metadata": {},
          "execution_count": 24
        }
      ]
    },
    {
      "cell_type": "markdown",
      "source": [
        "Set the Model to the target device"
      ],
      "metadata": {
        "id": "UvyxmF8cBH5-"
      }
    },
    {
      "cell_type": "code",
      "source": [
        "next(model_1.parameters()).device"
      ],
      "metadata": {
        "colab": {
          "base_uri": "https://localhost:8080/"
        },
        "id": "scGsDF_sAL68",
        "outputId": "d357843f-c97b-40b7-fc36-d6153f272a45"
      },
      "execution_count": null,
      "outputs": [
        {
          "output_type": "execute_result",
          "data": {
            "text/plain": [
              "device(type='cpu')"
            ]
          },
          "metadata": {},
          "execution_count": 25
        }
      ]
    },
    {
      "cell_type": "code",
      "source": [
        "model_1.to(device)"
      ],
      "metadata": {
        "colab": {
          "base_uri": "https://localhost:8080/"
        },
        "id": "iskBbBfzBO87",
        "outputId": "351429aa-2945-4930-dfee-068dc46e66de"
      },
      "execution_count": null,
      "outputs": [
        {
          "output_type": "execute_result",
          "data": {
            "text/plain": [
              "LinearRegressionModelV2(\n",
              "  (linear_layer): Linear(in_features=1, out_features=1, bias=True)\n",
              ")"
            ]
          },
          "metadata": {},
          "execution_count": 26
        }
      ]
    },
    {
      "cell_type": "code",
      "source": [
        "next(model_1.parameters()).device"
      ],
      "metadata": {
        "colab": {
          "base_uri": "https://localhost:8080/"
        },
        "id": "st6tFH3eBU6T",
        "outputId": "277a26ef-8a9a-4b3e-815f-4ca0fbea8fd9"
      },
      "execution_count": null,
      "outputs": [
        {
          "output_type": "execute_result",
          "data": {
            "text/plain": [
              "device(type='cuda', index=0)"
            ]
          },
          "metadata": {},
          "execution_count": 27
        }
      ]
    },
    {
      "cell_type": "markdown",
      "source": [
        "# Training the Model"
      ],
      "metadata": {
        "id": "aCobWHuyBfu_"
      }
    },
    {
      "cell_type": "code",
      "source": [
        "loss_fn = nn.L1Loss()\n",
        "\n",
        "optimizer = t.optim.Adam(params = model_1.parameters(),\n",
        "                         lr = 0.01)\n"
      ],
      "metadata": {
        "id": "qiCDVb1LBiZM"
      },
      "execution_count": null,
      "outputs": []
    },
    {
      "cell_type": "code",
      "source": [
        "t.manual_seed(42)\n",
        "\n",
        "epochs = 500\n",
        "\n",
        "\n",
        "# Put data on target Device \"Device Agnostic Data\"\n",
        "\n",
        "X_train = X_train.to(device)\n",
        "X_test = X_test.to(device)\n",
        "y_train = y_train.to(device)\n",
        "y_test = y_test.to(device)\n",
        "\n",
        "\n",
        "for epoch in range(epochs):\n",
        "  model_1.train()\n",
        "  y_pred = model_1(X_train)\n",
        "\n",
        "  Loss = loss_fn(y_pred, y_train)\n",
        "\n",
        "  optimizer.zero_grad()\n",
        "  Loss.backward()\n",
        "  optimizer.step()\n",
        "\n",
        "  model_1.eval()\n",
        "  with t.inference_mode():\n",
        "    test_pred = model_1(X_test)\n",
        "\n",
        "    test_loss = loss_fn(test_pred, y_test)\n",
        "\n",
        "\n",
        "    if epoch % 10 == 0 :\n",
        "      print(f\"Epoch: {epoch} || Loss: {Loss} || Test Loss: {test_loss}\")"
      ],
      "metadata": {
        "colab": {
          "base_uri": "https://localhost:8080/"
        },
        "id": "3OdPFmcGB39v",
        "outputId": "f36754c8-613e-44ef-d544-e249cbaa5756"
      },
      "execution_count": null,
      "outputs": [
        {
          "output_type": "stream",
          "name": "stdout",
          "text": [
            "Epoch: 0 || Loss: 0.5551779866218567 || Test Loss: 0.568547248840332\n",
            "Epoch: 10 || Loss: 0.41617804765701294 || Test Loss: 0.3795474171638489\n",
            "Epoch: 20 || Loss: 0.27717819809913635 || Test Loss: 0.19054758548736572\n",
            "Epoch: 30 || Loss: 0.13817833364009857 || Test Loss: 0.012273061089217663\n",
            "Epoch: 40 || Loss: 0.06483235210180283 || Test Loss: 0.15948258340358734\n",
            "Epoch: 50 || Loss: 0.06953977793455124 || Test Loss: 0.19462482631206512\n",
            "Epoch: 60 || Loss: 0.0556403286755085 || Test Loss: 0.14198975265026093\n",
            "Epoch: 70 || Loss: 0.0445832721889019 || Test Loss: 0.0821138396859169\n",
            "Epoch: 80 || Loss: 0.03573416545987129 || Test Loss: 0.06503849476575851\n",
            "Epoch: 90 || Loss: 0.025599658489227295 || Test Loss: 0.05930417403578758\n",
            "Epoch: 100 || Loss: 0.01504121720790863 || Test Loss: 0.029013914987444878\n",
            "Epoch: 110 || Loss: 0.0042837196961045265 || Test Loss: 0.0085464958101511\n",
            "Epoch: 120 || Loss: 0.0037691406905651093 || Test Loss: 0.009793102741241455\n",
            "Epoch: 130 || Loss: 0.00027832164778374135 || Test Loss: 0.0004135608614888042\n",
            "Epoch: 140 || Loss: 0.0009311721078120172 || Test Loss: 0.0006191909196786582\n",
            "Epoch: 150 || Loss: 0.0006548278033733368 || Test Loss: 0.0013327598571777344\n",
            "Epoch: 160 || Loss: 0.0004108227731194347 || Test Loss: 0.0038406073581427336\n",
            "Epoch: 170 || Loss: 0.0007727816700935364 || Test Loss: 0.0021832825150340796\n",
            "Epoch: 180 || Loss: 0.0002193309337599203 || Test Loss: 0.0018165766960009933\n",
            "Epoch: 190 || Loss: 0.0019032753771170974 || Test Loss: 0.0016056537861004472\n",
            "Epoch: 200 || Loss: 0.0018499046564102173 || Test Loss: 0.0014247596263885498\n",
            "Epoch: 210 || Loss: 0.0030513040255755186 || Test Loss: 0.0010923802619799972\n",
            "Epoch: 220 || Loss: 0.0005767352995462716 || Test Loss: 0.0006605804082937539\n",
            "Epoch: 230 || Loss: 0.0011658065486699343 || Test Loss: 0.002497738692909479\n",
            "Epoch: 240 || Loss: 0.0017257571453228593 || Test Loss: 0.0021287084091454744\n",
            "Epoch: 250 || Loss: 0.001688899821601808 || Test Loss: 0.003075546119362116\n",
            "Epoch: 260 || Loss: 0.003535214811563492 || Test Loss: 0.0014696241123601794\n",
            "Epoch: 270 || Loss: 0.002708656480535865 || Test Loss: 0.004744064994156361\n",
            "Epoch: 280 || Loss: 0.0027005949523299932 || Test Loss: 0.0010711789363995194\n",
            "Epoch: 290 || Loss: 0.0015005484456196427 || Test Loss: 0.0010654509533196688\n",
            "Epoch: 300 || Loss: 0.0023182108998298645 || Test Loss: 0.0045736911706626415\n",
            "Epoch: 310 || Loss: 0.001416547573171556 || Test Loss: 3.556609226507135e-05\n",
            "Epoch: 320 || Loss: 0.0021099268924444914 || Test Loss: 0.00048341156798414886\n",
            "Epoch: 330 || Loss: 0.0024918734561651945 || Test Loss: 0.004653871059417725\n",
            "Epoch: 340 || Loss: 0.0017173938686028123 || Test Loss: 0.000714850437361747\n",
            "Epoch: 350 || Loss: 0.0012417174875736237 || Test Loss: 0.0017789900302886963\n",
            "Epoch: 360 || Loss: 0.0014560908311977983 || Test Loss: 0.0030186891090124846\n",
            "Epoch: 370 || Loss: 0.002271952573210001 || Test Loss: 0.0015274406177923083\n",
            "Epoch: 380 || Loss: 0.0010060317581519485 || Test Loss: 0.002030158182606101\n",
            "Epoch: 390 || Loss: 0.001352625316940248 || Test Loss: 0.0028592587914317846\n",
            "Epoch: 400 || Loss: 0.0022552073933184147 || Test Loss: 0.0015345275169238448\n",
            "Epoch: 410 || Loss: 0.0009769134921953082 || Test Loss: 0.0020081759430468082\n",
            "Epoch: 420 || Loss: 0.0013248607283458114 || Test Loss: 0.0028083205688744783\n",
            "Epoch: 430 || Loss: 0.0022220618557184935 || Test Loss: 0.0015130460960790515\n",
            "Epoch: 440 || Loss: 0.0009598620235919952 || Test Loss: 0.0019807040225714445\n",
            "Epoch: 450 || Loss: 0.0013042771024629474 || Test Loss: 0.0027693926822394133\n",
            "Epoch: 460 || Loss: 0.002193734049797058 || Test Loss: 0.0014940559631213546\n",
            "Epoch: 470 || Loss: 0.0009459831053391099 || Test Loss: 0.0019572079181671143\n",
            "Epoch: 480 || Loss: 0.0012871623039245605 || Test Loss: 0.0027369081508368254\n",
            "Epoch: 490 || Loss: 0.0021697604097425938 || Test Loss: 0.001477915095165372\n"
          ]
        }
      ]
    },
    {
      "cell_type": "code",
      "source": [
        "model_1.state_dict()"
      ],
      "metadata": {
        "colab": {
          "base_uri": "https://localhost:8080/"
        },
        "id": "w012hh4mC0bv",
        "outputId": "e8005e7d-a39a-415d-d88d-bc7b63360d78"
      },
      "execution_count": null,
      "outputs": [
        {
          "output_type": "execute_result",
          "data": {
            "text/plain": [
              "OrderedDict([('linear_layer.weight', tensor([[0.7009]], device='cuda:0')),\n",
              "             ('linear_layer.bias', tensor([0.3006], device='cuda:0'))])"
            ]
          },
          "metadata": {},
          "execution_count": 30
        }
      ]
    },
    {
      "cell_type": "code",
      "source": [
        "model_1.eval()\n",
        "with t.inference_mode():\n",
        "  y_preds = model_1(X_test)\n",
        "y_preds"
      ],
      "metadata": {
        "colab": {
          "base_uri": "https://localhost:8080/"
        },
        "id": "hW8WN1q9DIca",
        "outputId": "8f49f685-505d-4444-affc-d119f355c845"
      },
      "execution_count": null,
      "outputs": [
        {
          "output_type": "execute_result",
          "data": {
            "text/plain": [
              "tensor([[0.8613],\n",
              "        [0.8753],\n",
              "        [0.8893],\n",
              "        [0.9034],\n",
              "        [0.9174],\n",
              "        [0.9314],\n",
              "        [0.9454],\n",
              "        [0.9594],\n",
              "        [0.9734],\n",
              "        [0.9875]], device='cuda:0')"
            ]
          },
          "metadata": {},
          "execution_count": 36
        }
      ]
    },
    {
      "cell_type": "code",
      "source": [
        "plot_predictions(predictions = y_preds.cpu())"
      ],
      "metadata": {
        "colab": {
          "base_uri": "https://localhost:8080/",
          "height": 599
        },
        "id": "UXkMxSt8D7QF",
        "outputId": "63afdbf8-ebca-4b8b-ff3b-a7fa3be42b09"
      },
      "execution_count": null,
      "outputs": [
        {
          "output_type": "display_data",
          "data": {
            "text/plain": [
              "<Figure size 1000x700 with 1 Axes>"
            ],
            "image/png": "[encoded data removed]"
          },
          "metadata": {}
        }
      ]
    },
    {
      "cell_type": "code",
      "source": [],
      "metadata": {
        "id": "81t9WDvnEZN1"
      },
      "execution_count": null,
      "outputs": []
    }
  ]
}